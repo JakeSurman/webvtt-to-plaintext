{
 "cells": [
  {
   "cell_type": "code",
   "execution_count": null,
   "metadata": {},
   "outputs": [],
   "source": [
    "%pip install webvtt-py\n",
    "import webvtt\n",
    "import os\n",
    "\n",
    "for filename in os.listdir('./vttfiles'):\n",
    "    if filename.endswith(\".vtt\"):\n",
    "        print(\"Processing started on \" + filename)\n",
    "        output=open(\"./output/\" + filename + \"-plain.txt\", 'w')\n",
    "\n",
    "        for caption in webvtt.read(\"./vttfiles/\" + filename):\n",
    "            output.write(caption.text + \" \")\n",
    "\n",
    "        output.close()\n",
    "        print(\"processing finished on \" + filename)\n",
    "print(\"Finished\")"
   ]
  },
  {
   "cell_type": "code",
   "execution_count": null,
   "metadata": {},
   "outputs": [],
   "source": []
  },
  {
   "cell_type": "code",
   "execution_count": null,
   "metadata": {},
   "outputs": [],
   "source": []
  }
 ],
 "metadata": {
  "kernelspec": {
   "display_name": "Python 3",
   "language": "python",
   "name": "python3"
  },
  "language_info": {
   "codemirror_mode": {
    "name": "ipython",
    "version": 3
   },
   "file_extension": ".py",
   "mimetype": "text/x-python",
   "name": "python",
   "nbconvert_exporter": "python",
   "pygments_lexer": "ipython3",
   "version": "3.7.3"
  }
 },
 "nbformat": 4,
 "nbformat_minor": 2
}
